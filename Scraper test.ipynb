{
 "cells": [
  {
   "cell_type": "markdown",
   "id": "683de4e6",
   "metadata": {},
   "source": [
    "# Scraper test"
   ]
  },
  {
   "cell_type": "code",
   "execution_count": 1,
   "id": "56be7b44",
   "metadata": {},
   "outputs": [],
   "source": [
    "from bs4 import BeautifulSoup\n",
    "import requests"
   ]
  },
  {
   "cell_type": "code",
   "execution_count": 24,
   "id": "d52b6c35",
   "metadata": {},
   "outputs": [],
   "source": [
    "website = 'https://www.rockit.it/noyznarcos/canzone/verano-zombie-feat-gemello/168291'\n",
    "result = requests.get(website)\n",
    "content = result.text\n",
    "soup = BeautifulSoup(content, 'lxml')\n",
    "\n",
    "test = list(soup)\n"
   ]
  },
  {
   "cell_type": "code",
   "execution_count": 29,
   "id": "5b351ed0",
   "metadata": {},
   "outputs": [
    {
     "data": {
      "text/plain": [
       "' cached content 2022-01-05 15:53:32 pagina-168291-canzone '"
      ]
     },
     "execution_count": 29,
     "metadata": {},
     "output_type": "execute_result"
    }
   ],
   "source": []
  }
 ],
 "metadata": {
  "kernelspec": {
   "display_name": "Python 3",
   "language": "python",
   "name": "python3"
  },
  "language_info": {
   "codemirror_mode": {
    "name": "ipython",
    "version": 3
   },
   "file_extension": ".py",
   "mimetype": "text/x-python",
   "name": "python",
   "nbconvert_exporter": "python",
   "pygments_lexer": "ipython3",
   "version": "3.8.8"
  }
 },
 "nbformat": 4,
 "nbformat_minor": 5
}
