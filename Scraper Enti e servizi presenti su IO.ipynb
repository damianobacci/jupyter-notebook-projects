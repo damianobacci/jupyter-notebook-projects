{
 "cells": [
  {
   "cell_type": "markdown",
   "id": "683de4e6",
   "metadata": {},
   "source": [
    "# Scraper for \"Enti e servizi presenti su IO\""
   ]
  },
  {
   "cell_type": "markdown",
   "id": "3da0bbfe",
   "metadata": {},
   "source": [
    "## Introductions\n",
    "\n",
    "[iO](https://io.italia.it/) is an app developed by the Italian Ministry of Technological Innovation with the goal of creating a a single channel for institutions and citizens where it's possible to access all digital public services.\n",
    "\n",
    "The goal of this project is to [obtain a list of all institutions](https://io.italia.it/enti/) that are using iO for their services."
   ]
  },
  {
   "cell_type": "code",
   "execution_count": 1,
   "id": "56be7b44",
   "metadata": {},
   "outputs": [],
   "source": [
    "# libraries for requesting url and scraping\n",
    "import requests\n",
    "import json\n",
    "from bs4 import BeautifulSoup"
   ]
  },
  {
   "cell_type": "code",
   "execution_count": 15,
   "id": "37472153",
   "metadata": {},
   "outputs": [],
   "source": [
    "# getting unique IDs for all institutions\n",
    "r = requests.get('https://io.italia.it/assets/json/enti-list-searchable.json')\n",
    "f = r.json()\n",
    "\n",
    "fc_list = []\n",
    "for i in f:\n",
    "    comune = i.split('|')\n",
    "    fc_list.append(comune[1])"
   ]
  },
  {
   "cell_type": "code",
   "execution_count": 20,
   "id": "2936d3da",
   "metadata": {
    "scrolled": true
   },
   "outputs": [
    {
     "name": "stdout",
     "output_type": "stream",
     "text": [
      "['00421140039', '83002690275', '00139940407', '00080700396', '00493410583']\n",
      "83002690275\n"
     ]
    }
   ],
   "source": [
    "print(fc_list[0:5])"
   ]
  },
  {
   "cell_type": "code",
   "execution_count": 19,
   "id": "843130a5",
   "metadata": {},
   "outputs": [
    {
     "data": {
      "text/plain": [
       "6975"
      ]
     },
     "execution_count": 19,
     "metadata": {},
     "output_type": "execute_result"
    }
   ],
   "source": [
    "len(fc_list) "
   ]
  },
  {
   "cell_type": "markdown",
   "id": "0c8fe385",
   "metadata": {},
   "source": [
    "We can see that there are 6975 unique IDs, ranging from small public administrations like \"Comuni\" to Regions, Metropolitan Cities and government offices."
   ]
  },
  {
   "cell_type": "code",
   "execution_count": null,
   "id": "d52b6c35",
   "metadata": {},
   "outputs": [],
   "source": [
    "# scraping data from every institutions in details\n",
    "\n",
    "for fc in fc_list:\n",
    "    website = 'https://io.italia.it/assets/entijson/'+fc+'.json'\n",
    "    result = requests.get(website)\n",
    "    content = result.text\n",
    "    soup = BeautifulSoup(content, 'lxml')\n"
   ]
  }
 ],
 "metadata": {
  "kernelspec": {
   "display_name": "Python 3",
   "language": "python",
   "name": "python3"
  },
  "language_info": {
   "codemirror_mode": {
    "name": "ipython",
    "version": 3
   },
   "file_extension": ".py",
   "mimetype": "text/x-python",
   "name": "python",
   "nbconvert_exporter": "python",
   "pygments_lexer": "ipython3",
   "version": "3.8.8"
  }
 },
 "nbformat": 4,
 "nbformat_minor": 5
}
