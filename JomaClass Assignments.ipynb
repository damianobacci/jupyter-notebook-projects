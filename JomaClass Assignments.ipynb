{
 "cells": [
  {
   "cell_type": "markdown",
   "metadata": {},
   "source": [
    "## Problem 1: Score\n",
    "Let’s say that every day in JomaClass (fictional school) you get a quiz. You can either get the\n",
    "correct answer, the wrong answer or not do the quiz at all because you slept through your alarm\n",
    "and didn’t show up to class. Each of them will have a different score:\n",
    "\n",
    "* Correct answer: 2 points\n",
    "* Wrong answer: 1 point\n",
    "* Didn’t show up: 0 points\n",
    "\n",
    "Write a function that produces your final score as a percentage given:\n",
    "\n",
    "* total: the number of quizzes\n",
    "* correct: the number of quizzes you correctly answered\n",
    "* wrong: the number of quizzes you answered incorrectly."
   ]
  },
  {
   "cell_type": "code",
   "execution_count": 2,
   "metadata": {
    "scrolled": true
   },
   "outputs": [
    {
     "data": {
      "text/plain": [
       "100.0"
      ]
     },
     "execution_count": 2,
     "metadata": {},
     "output_type": "execute_result"
    }
   ],
   "source": [
    "def score(total, correct, wrong):\n",
    "    points = 0\n",
    "    points += correct*2\n",
    "    points += wrong*1\n",
    "    score = (points /(total*2)) * 100\n",
    "    return score\n",
    "\n",
    "score(20, 20, 0)"
   ]
  },
  {
   "cell_type": "markdown",
   "metadata": {},
   "source": [
    "## Problem 2 (Challenge): Score of best 75% days\n",
    "\n",
    "The same question as previously, however, we only take your best 75% days to account for sick\n",
    "days. No one is ever healthy every day. That means that even if they didn’t get every question\n",
    "correct, as long as they got 75% of the questions correct, they will get 100%. See the example\n",
    "outputs below.\n",
    "\n",
    "Write a function that produces your final score as a percentage given:\n",
    "\n",
    "* total: the number of quizzes\n",
    "* correct: the number of quizzes you correctly answered\n",
    "* wrong: the number of quizzes you answered incorrectly."
   ]
  },
  {
   "cell_type": "code",
   "execution_count": 38,
   "metadata": {},
   "outputs": [
    {
     "data": {
      "text/plain": [
       "150.0"
      ]
     },
     "execution_count": 38,
     "metadata": {},
     "output_type": "execute_result"
    }
   ],
   "source": [
    "def score75(total, correct, wrong):\n",
    "    miss = (total - correct - wrong)\n",
    "    points = 0\n",
    "    points += (correct*2)+(miss*2)\n",
    "    points += (wrong*1)+(miss*1)\n",
    "    score = (points /((total-miss)*2)) * 100\n",
    "    return score\n",
    "\n",
    "score75(20, 15, 0)"
   ]
  }
 ],
 "metadata": {
  "kernelspec": {
   "display_name": "Python 3",
   "language": "python",
   "name": "python3"
  },
  "language_info": {
   "codemirror_mode": {
    "name": "ipython",
    "version": 3
   },
   "file_extension": ".py",
   "mimetype": "text/x-python",
   "name": "python",
   "nbconvert_exporter": "python",
   "pygments_lexer": "ipython3",
   "version": "3.8.5"
  }
 },
 "nbformat": 4,
 "nbformat_minor": 4
}
