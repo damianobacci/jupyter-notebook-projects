{
 "cells": [
  {
   "cell_type": "code",
   "execution_count": 1,
   "id": "cadd8027",
   "metadata": {},
   "outputs": [],
   "source": [
    "import numpy as np\n",
    "import pandas as pd\n",
    "import matplotlib.pyplot as plt\n",
    "\n",
    "%matplotlib inline"
   ]
  },
  {
   "cell_type": "code",
   "execution_count": 2,
   "id": "95d9b74b",
   "metadata": {},
   "outputs": [],
   "source": [
    "rep = pd.read_json?"
   ]
  },
  {
   "cell_type": "code",
   "execution_count": null,
   "id": "2efc9663",
   "metadata": {},
   "outputs": [],
   "source": [
    "rep = pd.read_json"
   ]
  }
 ],
 "metadata": {
  "kernelspec": {
   "display_name": "Python 3",
   "language": "python",
   "name": "python3"
  },
  "language_info": {
   "codemirror_mode": {
    "name": "ipython",
    "version": 3
   },
   "file_extension": ".py",
   "mimetype": "text/x-python",
   "name": "python",
   "nbconvert_exporter": "python",
   "pygments_lexer": "ipython3",
   "version": "3.8.8"
  }
 },
 "nbformat": 4,
 "nbformat_minor": 5
}
